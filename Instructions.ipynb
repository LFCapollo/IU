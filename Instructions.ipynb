{
 "cells": [
  {
   "cell_type": "markdown",
   "metadata": {
    "slideshow": {
     "slide_type": "slide"
    }
   },
   "source": [
    "<h3 align=\"center\">Our goals</h3>\n",
    "\n",
    "- Our main goal is to provide students with education.\n",
    "- We help you gain knowledge, you help us conduct lectures at the appropriate level.\n",
    "- The course will be transparent, so please all students play fair and follow the rules."
   ]
  },
  {
   "cell_type": "markdown",
   "metadata": {
    "slideshow": {
     "slide_type": "slide"
    }
   },
   "source": [
    "<h3 align=\"center\">Rules for attending the lectures</h3>\n",
    "\n",
    "- Please do not be late for lectures.\n",
    "- At the beginning of each lecture there will be a roll call. Who is late, will receive a pass!\n",
    "- Missing classes will not affect grades, but claims of students who missed classes will not be accepted\n",
    "- There will be a request not to use the phone during the lecture"
   ]
  },
  {
   "cell_type": "markdown",
   "metadata": {
    "slideshow": {
     "slide_type": "subslide"
    }
   },
   "source": [
    "<h3 align=\"center\">Plagiarism</h3>\n",
    "\n",
    "- It’s absolutely unacceptable to use somebody’s work, idea or thought in homework, presentation or any other kind of written task, without indicating the source. \n",
    "- In this case, the lecturer is obliged to leave the work of a student without assessment."
   ]
  },
  {
   "cell_type": "markdown",
   "metadata": {
    "slideshow": {
     "slide_type": "subslide"
    }
   },
   "source": [
    "<h3 align=\"center\">Cheating</h3>\n",
    "\n",
    "- This kind of action is forbidden during any type of activity (homework, exam, presentation, etc.) \n",
    "- In this case, the lecturer is obliged to leave the student without assessment.\n",
    "- A Student can retake the mid-term exam in case he/she misses the exam due to reasonable excuse (illness, business trip, necessity to be at work at a given time). \n",
    "- In order to retake the midterm exam, the student must apply to the Faculty of Business, Technology and Education administration. \n",
    "- The lecturer fixes the time and date of the retake examination. Involvement in discussions/debated can’t be recovered."
   ]
  },
  {
   "cell_type": "code",
   "execution_count": null,
   "metadata": {},
   "outputs": [],
   "source": []
  }
 ],
 "metadata": {
  "celltoolbar": "Slideshow",
  "kernelspec": {
   "display_name": "Python 3",
   "language": "python",
   "name": "python3"
  },
  "language_info": {
   "codemirror_mode": {
    "name": "ipython",
    "version": 3
   },
   "file_extension": ".py",
   "mimetype": "text/x-python",
   "name": "python",
   "nbconvert_exporter": "python",
   "pygments_lexer": "ipython3",
   "version": "3.7.3"
  }
 },
 "nbformat": 4,
 "nbformat_minor": 2
}
