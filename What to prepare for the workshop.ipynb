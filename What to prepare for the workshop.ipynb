{
 "cells": [
  {
   "cell_type": "markdown",
   "metadata": {},
   "source": [
    "- We will use **jupyter notebooks** for the workshops. To install it, follow the instructions in the link:\n",
    "<br>\n",
    "<a href=\"https://jupyter.readthedocs.io/en/latest/install.html\">https://jupyter.readthedocs.io/en/latest/install.html</a>\n",
    "- For new users, we highly recommend installing **Anaconda** platform. It contains most of the libraries we use during the course:\n",
    "<br>\n",
    "<a href=\"https://www.anaconda.com/distribution/#download-section\">https://www.anaconda.com/distribution/#download-section</a>\n",
    "<br>\n",
    " We use **Python version 3.7** (the latest at the moment).\n",
    "<br>\n",
    " **Download** the installer that corresponds to your PC **Operating System**: **64-Bit** or **32-Bit**.\n",
    "- To install RISE extension for jupyter notebook follow the link:\n",
    "<br>\n",
    "<a href=\"https://www.youtube.com/watch?v=utNl9f3gqYQ\">https://www.youtube.com/watch?v=utNl9f3gqYQ</a>\n",
    "<br> Normally it should be already installed with Anaconda so you need just to enable the extension.\n",
    "<br> For this open **jupyter notebook** and run the script directpy with code:"
   ]
  },
  {
   "cell_type": "code",
   "execution_count": null,
   "metadata": {},
   "outputs": [],
   "source": [
    "jyputer-nbextension enable rise --py --sys--prefix"
   ]
  }
 ],
 "metadata": {
  "kernelspec": {
   "display_name": "Python 3",
   "language": "python",
   "name": "python3"
  },
  "language_info": {
   "codemirror_mode": {
    "name": "ipython",
    "version": 3
   },
   "file_extension": ".py",
   "mimetype": "text/x-python",
   "name": "python",
   "nbconvert_exporter": "python",
   "pygments_lexer": "ipython3",
   "version": "3.7.3"
  }
 },
 "nbformat": 4,
 "nbformat_minor": 2
}
