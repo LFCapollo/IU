{
 "cells": [
  {
   "cell_type": "markdown",
   "metadata": {},
   "source": [
    "- Workshops will be held in Room 304. \n",
    "- We will use **jupyter notebooks** for the workshops.\n",
    "- To install it, follow the instructions in the link:\n",
    "\n",
    "&emsp; &ensp;  <a href=\"https://jupyter.readthedocs.io/en/latest/install.html\">https://jupyter.readthedocs.io/en/latest/install.html</a>\n",
    "\n",
    "- For new users, we highly recommend installing Anaconda platform. It contains most of the libraries we use during the course:\n",
    "\n",
    "&emsp; &ensp;  <a href=\"https://www.anaconda.com/distribution/#download-section\">https://www.anaconda.com/distribution/#download-section</a>\n",
    "\n",
    "&emsp; &ensp;  We use **Python version 3.7** (the latest at the moment).\n",
    "\n",
    "&emsp; &ensp;  **Download** the installer that corresponds to your PC **Operating System**: **64-Bit** or **32-Bit**.\n",
    "- To create presentation slides, install the **RISE extension** for jupyter notebook following the link:\n",
    "<br>\n",
    "<a href=\"https://www.youtube.com/watch?v=utNl9f3gqYQ\">https://www.youtube.com/watch?v=utNl9f3gqYQ</a>\n",
    "\n",
    "&emsp; &ensp;  Usually it should already be installed with Anaconda, so you just need to enable the extension.\n",
    "\n",
    "&emsp; &ensp;  For this open **jupyter notebook** and run the line with the code:"
   ]
  },
  {
   "cell_type": "code",
   "execution_count": null,
   "metadata": {},
   "outputs": [],
   "source": [
    "jyputer-nbextension enable rise --py --sys--prefix"
   ]
  }
 ],
 "metadata": {
  "kernelspec": {
   "display_name": "Python 3",
   "language": "python",
   "name": "python3"
  },
  "language_info": {
   "codemirror_mode": {
    "name": "ipython",
    "version": 3
   },
   "file_extension": ".py",
   "mimetype": "text/x-python",
   "name": "python",
   "nbconvert_exporter": "python",
   "pygments_lexer": "ipython3",
   "version": "3.7.3"
  }
 },
 "nbformat": 4,
 "nbformat_minor": 2
}
